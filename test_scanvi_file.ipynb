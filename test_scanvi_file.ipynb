{
 "cells": [
  {
   "cell_type": "code",
   "execution_count": 1,
   "metadata": {},
   "outputs": [],
   "source": [
    "# 2025 Tau-Seq Pipeline\n",
    "    # Supertype level QC (RUN ALL)\n",
    "# Method: Otero-Garcia 2023\n",
    "# Donors: 12 (SEA-AD, Braak IV-VI)\n",
    "# Tau-Seq Cells: Approx. 200k\n",
    "# SEA-AD Reference Cells: Approx 1.5M\n",
    "# By: Victoria Rachleff\n",
    "# Date created: May 5 2025\n",
    "# Last Modified: May 5 2025\n",
    "\n",
    "# enviornments:\n",
    "    # mapping: /allen/programs/celltypes/workgroups/hct/ktrav/conda/envs/iterative_scANVI/\n",
    "    # relative abundance: /allen/programs/celltypes/workgroups/hct/ktrav/conda/envs/sccoda_019\n",
    "    # differential expression: /allen/programs/celltypes/workgroups/hct/ktrav/conda/envs/nebula_153\n",
    "\n",
    "# resource recs: \n",
    "    # mapping: salloc --ntasks-per-node=1 --cpus-per-task=32 --mem=500G --time=0-48:00:00 -p celltypes -G 1 srun --pty bash -i -l \n",
    "    # other: salloc --ntasks-per-node=1 --cpus-per-task=32 --mem=400G --time=0-12:00:00 -p celltypes srun --pty bash -i -l \n",
    "\n",
    "# Steps: \n",
    "    # Manually enter pTau status \n",
    "    # Technical QC (donors to exclude)\n",
    "    # Integration and Mapping (scANVI)\n",
    "    # Neighborhood QC (Custom function)\n",
    "    # Relative Abundance (scCODA, Tstat)\n",
    "    # Differential Expression (Nebula)"
   ]
  },
  {
   "cell_type": "code",
   "execution_count": null,
   "metadata": {},
   "outputs": [
    {
     "name": "stdout",
     "output_type": "stream",
     "text": [
      "0.11.3\n"
     ]
    }
   ],
   "source": [
    "# Load required packages\n",
    "import os\n",
    "import seaborn as sns\n",
    "import numpy as np\n",
    "import anndata\n",
    "import re\n",
    "import pandas as pd\n",
    "import matplotlib.pyplot as plt\n",
    "from matplotlib.pyplot import rc_context\n",
    "import scanpy as sc\n",
    "import copy\n",
    "from datetime import datetime\n",
    "from scipy.io import mmread\n",
    "from igraph import *\n",
    "print(anndata.__version__)\n",
    "import i\n",
    "import warnings\n",
    "warnings.filterwarnings('ignore')"
   ]
  },
  {
   "cell_type": "code",
   "execution_count": 4,
   "metadata": {},
   "outputs": [],
   "source": [
    "'''Astrocyte'''\n",
    "\n",
    "# 13. Read in the subclass level objects\n",
    "\n",
    "filepath_query = \"/Users/nickkeesey/Desktop/projects/marimo_preprocess/test_data/ADsoma_pTau_only_Astrocyte.h5ad\"\n",
    "adata_query = sc.read_h5ad(filepath_query)\n",
    "\n",
    "\n",
    "filepath_ref = \"/Users/nickkeesey/Desktop/projects/marimo_preprocess/test_data/SEAAD_MTG_RNAseq_final-nuclei.2024-02-13_Astrocyte.h5ad\"\n",
    "adata_ref = sc.read_h5ad(filepath_ref)"
   ]
  },
  {
   "cell_type": "code",
   "execution_count": 6,
   "metadata": {},
   "outputs": [
    {
     "name": "stdout",
     "output_type": "stream",
     "text": [
      "Reference Donors: ['H20.33.026', 'H21.33.005', 'H21.33.013', 'H19.30.002', 'H20.33.028']\n",
      "Categories (88, object): ['H18.30.001', 'H18.30.002', 'H19.30.001', 'H19.30.002', ..., 'H21.33.044', 'H21.33.045', 'H21.33.046', 'H21.33.047']\n",
      "Query Donors: ['H20.33.046', 'H20.33.031', 'H20.33.018', 'H20.33.028', 'H20.33.040']\n",
      "Categories (9, object): ['H20.33.008', 'H20.33.015', 'H20.33.018', 'H20.33.024', ..., 'H20.33.029', 'H20.33.031', 'H20.33.040', 'H20.33.046']\n"
     ]
    }
   ],
   "source": [
    "print(\"Reference Donors:\", adata_ref.obs[\"Donor ID\"].unique()[:5])\n",
    "print(\"Query Donors:\", adata_query.obs[\"Donor ID\"].unique()[:5])"
   ]
  },
  {
   "cell_type": "code",
   "execution_count": 7,
   "metadata": {},
   "outputs": [
    {
     "name": "stdout",
     "output_type": "stream",
     "text": [
      "Number of overlapping donors: 9\n"
     ]
    }
   ],
   "source": [
    "overlap = set(adata_ref.obs[\"Donor ID\"]).intersection(set(adata_query.obs[\"Donor ID\"]))\n",
    "print(f\"Number of overlapping donors: {len(overlap)}\")"
   ]
  },
  {
   "cell_type": "code",
   "execution_count": 8,
   "metadata": {},
   "outputs": [],
   "source": [
    "# 8. Link key metadata features across datasets (from SEA-AD to pTau, same donors)\n",
    "# Step 1: Ensure Donor IDs are strings and clean\n",
    "adata_ref.obs[\"Donor ID\"] = adata_ref.obs[\"Donor ID\"].astype(str).str.strip()\n",
    "adata_query.obs[\"Donor ID\"] = adata_query.obs[\"Donor ID\"].astype(str).str.strip()\n",
    "\n",
    "# Step 2: Create donor-level metadata lookup from adata_ref\n",
    "donor_metadata = (\n",
    "    adata_ref.obs[[\n",
    "        \"Donor ID\", \n",
    "        \"Continuous Pseudo-progression Score\", \n",
    "        \"Age at Death\", \n",
    "        \"Sex\", \n",
    "        \"Braak\", \n",
    "        \"Thal\", \n",
    "        \"Overall AD neuropathological Change\"\n",
    "    ]]\n",
    "    .drop_duplicates(subset=\"Donor ID\")\n",
    "    .set_index(\"Donor ID\")\n",
    ")\n",
    "\n",
    "# Step 3: Map each column from donor_metadata into adata_query.obs by Donor ID\n",
    "adata_query.obs[\"CPS\"] = adata_query.obs[\"Donor ID\"].map(donor_metadata[\"Continuous Pseudo-progression Score\"])\n",
    "adata_query.obs[\"Age\"] = adata_query.obs[\"Donor ID\"].map(donor_metadata[\"Age at Death\"])\n",
    "adata_query.obs[\"Sex\"] = adata_query.obs[\"Donor ID\"].map(donor_metadata[\"Sex\"])\n",
    "adata_query.obs[\"Braak\"] = adata_query.obs[\"Donor ID\"].map(donor_metadata[\"Braak\"])\n",
    "adata_query.obs[\"Thal\"] = adata_query.obs[\"Donor ID\"].map(donor_metadata[\"Thal\"])\n",
    "adata_query.obs[\"ADNC\"] = adata_query.obs[\"Donor ID\"].map(donor_metadata[\"Overall AD neuropathological Change\"])\n",
    "\n",
    "# Optional: CPS binarization\n",
    "adata_query.obs[\"CPS_Bin\"] = adata_query.obs[\"CPS\"].apply(lambda x: 1 if pd.notnull(x) and x > 0.5 else 0)"
   ]
  },
  {
   "cell_type": "code",
   "execution_count": 9,
   "metadata": {},
   "outputs": [],
   "source": [
    "# Rename to match as needed\n",
    "\n",
    "# Consistent name: Doublet score\n",
    "adata_query.obs['Doublet score'] = adata_query.obs['doublet_score']\n",
    "\n",
    "# Consistent name: Fraction mitochondrial UMIs\n",
    "# Generate the calculation (was this supposed to be included in data delivery?)\n",
    "adata_query.obs['calculated pTau Fraction mito UMIs'] = (\n",
    "    adata_query[:, adata_query.var_names.str.startswith(\"MT-\")].X.sum(axis=1) / adata_query.X.sum(axis=1)\n",
    ")\n",
    "# adata_query.obs['Fraction mitochondrial UMIs'].describe() ## this is a blank column\n",
    "adata_query.obs['Fraction mitochondrial UMIs'] = adata_query.obs['calculated pTau Fraction mito UMIs']\n",
    "\n",
    "# Consistent name: Genes detected\n",
    "adata_query.obs['Genes detected'] = adata_query.obs['n_genes']"
   ]
  },
  {
   "cell_type": "code",
   "execution_count": 10,
   "metadata": {},
   "outputs": [
    {
     "name": "stdout",
     "output_type": "stream",
     "text": [
      "Dropped columns (excluding 'Source'): ['facs_population_plan', 'library_prep_pass_fail', 'sample_id', 'Neurotypical reference', 'Organism', 'Brain Region', 'Gender', 'Age at Death', 'Highest level of education', 'Years of education', 'PMI', 'Fresh Brain Weight', 'Brain pH', 'Overall AD neuropathological Change', 'CERAD score', 'Overall CAA Score', 'Highest Lewy Body Disease', 'Total Microinfarcts (not observed grossly)', 'Total microinfarcts in screening sections', 'Atherosclerosis', 'Arteriolosclerosis', 'LATE', 'Cognitive Status', 'Last CASI Score', 'Interval from last CASI in months', 'Last MMSE Score', 'Interval from last MMSE in months', 'Last MOCA Score', 'Interval from last MOCA in months', 'APOE Genotype', 'Primary Study Name', 'Secondary Study Name', 'NeuN positive fraction on FANS', 'RIN', 'cell_prep_type', 'rna_amplification', 'Number of mapped reads', 'Number of unmapped reads', 'Number of multimapped reads', 'Number of reads', 'Number of UMIs', 'Class confidence', 'Subclass confidence', 'Supertype confidence', 'Supertype (non-expanded)', 'Continuous Pseudo-progression Score', 'Severely Affected Donor', 'supertype', 'subclass', 'Chandelier', 'Chandelier_1', 'Chandelier_2', 'Endo_1', 'Endo_2', 'Endo_3', 'L2/3 IT', 'L2/3 IT_1', 'L2/3 IT_10', 'L2/3 IT_12', 'L2/3 IT_13', 'L2/3 IT_2', 'L2/3 IT_3', 'L2/3 IT_5', 'L2/3 IT_6', 'L2/3 IT_7', 'L2/3 IT_8', 'L4 IT', 'L4 IT_1', 'L4 IT_2', 'L4 IT_3', 'L4 IT_4', 'L5 ET', 'L5 ET_1', 'L5 ET_2', 'L5 IT', 'L5 IT_1', 'L5 IT_2', 'L5 IT_3', 'L5 IT_5', 'L5 IT_6', 'L5 IT_7', 'L5/6 NP', 'L5/6 NP_1', 'L5/6 NP_2', 'L5/6 NP_3', 'L5/6 NP_4', 'L5/6 NP_6', 'L6 CT', 'L6 CT_1', 'L6 CT_2', 'L6 CT_3', 'L6 CT_4', 'L6 IT', 'L6 IT Car3', 'L6 IT Car3_1', 'L6 IT Car3_2', 'L6 IT Car3_3', 'L6 IT_1', 'L6 IT_2', 'L6b', 'L6b_1', 'L6b_2', 'L6b_3', 'L6b_4', 'L6b_5', 'L6b_6', 'Lamp5', 'Lamp5 Lhx6', 'Lamp5_1', 'Lamp5_2', 'Lamp5_3', 'Lamp5_4', 'Lamp5_5', 'Lamp5_6', 'Lamp5_Lhx6_1', 'Lymphocyte', 'Micro-PVM_1', 'Micro-PVM_2', 'Micro-PVM_2_1-SEAAD', 'Micro-PVM_2_3-SEAAD', 'Micro-PVM_3-SEAAD', 'Micro-PVM_4-SEAAD', 'Monocyte', 'OPC_1', 'OPC_2', 'OPC_2_1-SEAAD', 'OPC_2_2-SEAAD', 'Oligo_1', 'Oligo_2', 'Oligo_2_1-SEAAD', 'Oligo_3', 'Oligo_4', 'Pax6', 'Pax6_1', 'Pax6_2', 'Pax6_3', 'Pax6_4', 'Pericyte_1', 'Pericyte_2-SEAAD', 'Pvalb', 'Pvalb_1', 'Pvalb_10', 'Pvalb_12', 'Pvalb_13', 'Pvalb_14', 'Pvalb_15', 'Pvalb_2', 'Pvalb_3', 'Pvalb_5', 'Pvalb_6', 'Pvalb_7', 'Pvalb_8', 'Pvalb_9', 'SMC-SEAAD', 'Sncg', 'Sncg_1', 'Sncg_2', 'Sncg_3', 'Sncg_4', 'Sncg_5', 'Sncg_6', 'Sncg_8', 'Sst', 'Sst Chodl', 'Sst Chodl_1', 'Sst Chodl_2', 'Sst_1', 'Sst_10', 'Sst_11', 'Sst_12', 'Sst_13', 'Sst_19', 'Sst_2', 'Sst_20', 'Sst_22', 'Sst_23', 'Sst_25', 'Sst_3', 'Sst_4', 'Sst_5', 'Sst_7', 'Sst_9', 'VLMC_1', 'Vip', 'Vip_1', 'Vip_11', 'Vip_12', 'Vip_13', 'Vip_14', 'Vip_15', 'Vip_16', 'Vip_18', 'Vip_19', 'Vip_2', 'Vip_21', 'Vip_23', 'Vip_4', 'Vip_5', 'Vip_6', 'Vip_9', 'class', 'class_scANVI', 'class_stash', 'subclass_scANVI', 'subclass_stash', 'supertype_stash']\n"
     ]
    }
   ],
   "source": [
    "# Identify columns with only one unique value, including NaN and empty string\n",
    "cols_to_drop = [\n",
    "    col for col in adata_query.obs.columns\n",
    "    if adata_query.obs[col].nunique(dropna=False) <= 1 and col != \"Source\"\n",
    "]\n",
    "\n",
    "# Drop them\n",
    "adata_query.obs = adata_query.obs.drop(columns=cols_to_drop)\n",
    "\n",
    "print(f\"Dropped columns (excluding 'Source'): {cols_to_drop}\")"
   ]
  },
  {
   "cell_type": "code",
   "execution_count": 11,
   "metadata": {},
   "outputs": [
    {
     "ename": "ModuleNotFoundError",
     "evalue": "No module named 'iterative_scANVI'",
     "output_type": "error",
     "traceback": [
      "\u001b[31m---------------------------------------------------------------------------\u001b[39m",
      "\u001b[31mModuleNotFoundError\u001b[39m                       Traceback (most recent call last)",
      "\u001b[36mCell\u001b[39m\u001b[36m \u001b[39m\u001b[32mIn[11]\u001b[39m\u001b[32m, line 1\u001b[39m\n\u001b[32m----> \u001b[39m\u001b[32m1\u001b[39m \u001b[38;5;28;01mfrom\u001b[39;00m\u001b[38;5;250m \u001b[39m\u001b[34;01miterative_scANVI\u001b[39;00m\u001b[38;5;250m \u001b[39m\u001b[38;5;28;01mimport\u001b[39;00m mapping \u001b[38;5;28;01mas\u001b[39;00m isc_mapping\n\u001b[32m      3\u001b[39m sc.set_figure_params(figsize=(\u001b[32m6\u001b[39m, \u001b[32m6\u001b[39m), frameon=\u001b[38;5;28;01mFalse\u001b[39;00m)\n\u001b[32m      5\u001b[39m dataset = \u001b[33m\"\u001b[39m\u001b[33mAstrocyte_ADsoma_20250513\u001b[39m\u001b[33m\"\u001b[39m\n",
      "\u001b[31mModuleNotFoundError\u001b[39m: No module named 'iterative_scANVI'"
     ]
    }
   ],
   "source": [
    "from iterative_scANVI import mapping as isc_mapping\n",
    "\n",
    "sc.set_figure_params(figsize=(6, 6), frameon=False)\n",
    "\n",
    "dataset = \"Astrocyte_ADsoma_20250513\"\n",
    "region = \"MTG\"\n",
    "filepath = \"/allen/programs/celltypes/workgroups/humancelltypes/VictoriaR/2025_Tau-seq_subclass_QC\"\n",
    "\n",
    "\n",
    "isc_mapping.iteratively_map(\n",
    "    adata_query,\n",
    "    adata_ref,\n",
    "    output_dir=os.path.join(filepath, \"models\", region + \"_\" + dataset),\n",
    "    labels_keys=[\"supertype\"],\n",
    "    **{\n",
    "        \"batch_key\": \"Source\",\n",
    "        \"categorical_covariate_keys\": [\"Donor ID\"],\n",
    "        \"dispersion\": \"gene-batch\",\n",
    "        \"plot_latent_space\": True,\n",
    "      }\n",
    ")"
   ]
  },
  {
   "cell_type": "code",
   "execution_count": null,
   "metadata": {},
   "outputs": [],
   "source": [
    "from joblib import parallel_backend\n",
    "import hashlib\n",
    "import json\n",
    "\n",
    "# NEW IN ANNDATA 6, ADD ARGUMENT 'SUBCLASS' AND BE SURE TO WRITE SUBCLASS NAME\n",
    "\n",
    "save_anndata6(\n",
    "    adata_query=adata_query,\n",
    "    adata_ref=adata_ref,\n",
    "    split_key=None, \n",
    "    groupby=\"supertype\",\n",
    "    subclass=\"Astrocyte\",\n",
    "    output_dir = f\"/allen/programs/celltypes/workgroups/humancelltypes/VictoriaR/2025_Tau-seq_subclass_QC/models/MTG_Astrocyte_ADsoma_20250513\", # Hard coded !!! CHANGE EACH TIME !!!\n",
    "    date=\"2025-05-13\", # important: if run carries over to different date, must udpate!\n",
    "    model_args={\n",
    "        \"batch_key\": \"Source\",\n",
    "        \"categorical_covariate_keys\": [\"Donor ID\"],\n",
    "        \"dispersion\": \"gene-batch\",\n",
    "    },\n",
    "    **{\n",
    "        \"n_cores\": 32,\n",
    "        \"cluster_cells\": True\n",
    "    }\n",
    ")"
   ]
  }
 ],
 "metadata": {
  "kernelspec": {
   "display_name": "main",
   "language": "python",
   "name": "python3"
  },
  "language_info": {
   "codemirror_mode": {
    "name": "ipython",
    "version": 3
   },
   "file_extension": ".py",
   "mimetype": "text/x-python",
   "name": "python",
   "nbconvert_exporter": "python",
   "pygments_lexer": "ipython3",
   "version": "3.13.2"
  }
 },
 "nbformat": 4,
 "nbformat_minor": 2
}
